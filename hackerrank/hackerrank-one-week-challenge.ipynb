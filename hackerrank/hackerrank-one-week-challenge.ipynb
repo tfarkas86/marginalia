{
 "cells": [
  {
   "cell_type": "markdown",
   "id": "0ddeeb12-9c03-44b6-a601-f9254f919505",
   "metadata": {},
   "source": [
    "# HackerRank One-Week Coding Review"
   ]
  },
  {
   "cell_type": "code",
   "execution_count": 2,
   "id": "5b95a32d-d60e-4da2-9a0f-5c688b8c3031",
   "metadata": {},
   "outputs": [],
   "source": [
    "import os\n",
    "import math\n",
    "import random \n",
    "import re \n",
    "import sys"
   ]
  },
  {
   "cell_type": "markdown",
   "id": "8a246e8e-abc6-4712-98c7-78cca483876c",
   "metadata": {},
   "source": [
    "## Day 1"
   ]
  },
  {
   "cell_type": "markdown",
   "id": "874310b5-c86f-48a4-ab57-ecf38784da90",
   "metadata": {},
   "source": [
    "### Time Converstion"
   ]
  },
  {
   "cell_type": "markdown",
   "id": "0f6fe63f-b1fc-4151-91c8-138f615b1e06",
   "metadata": {},
   "source": [
    "Write a a function `timeConversion()` that takes a 12-hr clock string (\"12:04:55AM\") and returns a 24-hr clock string. "
   ]
  },
  {
   "cell_type": "code",
   "execution_count": 47,
   "id": "524c6384-2b53-4c6e-9c7e-554c32b0560d",
   "metadata": {},
   "outputs": [],
   "source": [
    "def timeConversion(s):\n",
    "    ampm = s[-2:]\n",
    "    time = s[:-2] # time portion only\n",
    "    hr1 = s[:2] # the two-digit hour \n",
    "    if (ampm == \"AM\") & (hr1 == '12'):\n",
    "        return \"00\" + time[2:]\n",
    "    elif ampm == \"AM\":\n",
    "        return time\n",
    "    elif (ampm == \"PM\") & (hr1 == '12'):\n",
    "        return time\n",
    "    else: \n",
    "        return str(int(hr1) + 12) + time[2:]"
   ]
  },
  {
   "cell_type": "code",
   "execution_count": 48,
   "id": "2d59f008-8c6c-45f0-8adf-ecd2bcfedfae",
   "metadata": {},
   "outputs": [
    {
     "data": {
      "text/plain": [
       "'23:04:55'"
      ]
     },
     "execution_count": 48,
     "metadata": {},
     "output_type": "execute_result"
    }
   ],
   "source": [
    "s = '11:04:55PM'\n",
    "timeConversion(s)"
   ]
  },
  {
   "cell_type": "markdown",
   "id": "2de0bb98-dbca-427e-8181-e554d18dea42",
   "metadata": {},
   "source": [
    "### Get Median (Exam 1)"
   ]
  },
  {
   "cell_type": "code",
   "execution_count": null,
   "id": "529286ad-fd32-4993-b86c-a6c021c2e6fa",
   "metadata": {},
   "outputs": [],
   "source": [
    "def getMedian(arr):\n",
    "    arr.sort()\n",
    "    return arr[(len(arr) // 2)]"
   ]
  },
  {
   "cell_type": "code",
   "execution_count": null,
   "id": "55f838cf-7cf3-491b-ba5b-c3f440b23517",
   "metadata": {},
   "outputs": [],
   "source": [
    "arr = [2, 4, 6, 3, 9, 1, 7]\n",
    "getMedian(arr)"
   ]
  },
  {
   "cell_type": "markdown",
   "id": "39563dea-ea18-4398-a3ce-363e9c3d9a4f",
   "metadata": {},
   "source": [
    "## Day 2"
   ]
  },
  {
   "cell_type": "markdown",
   "id": "21b0249b-9fdf-49ca-838c-2c7301344cf5",
   "metadata": {},
   "source": [
    "### Lonely Integer"
   ]
  },
  {
   "cell_type": "markdown",
   "id": "37df3c6a-1b7a-4b1c-9d30-19eba489120c",
   "metadata": {},
   "source": [
    "Given an array with only one integer value occuring only once (all others occurring multiple times), find and return it. "
   ]
  },
  {
   "cell_type": "code",
   "execution_count": 100,
   "id": "40e01e01-6a08-4db5-b966-3055dca488cc",
   "metadata": {},
   "outputs": [],
   "source": [
    "def lonelyinteger(a):\n",
    "    a.sort()\n",
    "    print(a)\n",
    "    if len(a) == 1: # in case there only one number\n",
    "        return a[0]\n",
    "    elif a[0] != a[1]:\n",
    "        return a[0]\n",
    "    elif a[-1] != a[-2]:\n",
    "        return a[-1]\n",
    "    else:\n",
    "        index = [i for i in range(1, len(a) - 1) if (a[i] != a[i - 1]) & (a[i] != a[i + 1])]\n",
    "        return a[index[0]]"
   ]
  },
  {
   "cell_type": "code",
   "execution_count": 99,
   "id": "5b41a790-2ffa-43dc-95ce-8e835ba2c23a",
   "metadata": {},
   "outputs": [
    {
     "name": "stdout",
     "output_type": "stream",
     "text": [
      "[8]\n"
     ]
    },
    {
     "data": {
      "text/plain": [
       "8"
      ]
     },
     "execution_count": 99,
     "metadata": {},
     "output_type": "execute_result"
    }
   ],
   "source": [
    "arr = [1, 1, 1, 4, 4, 7, 7, 5, 3, 3, 9, 9]\n",
    "lonelyinteger(arr)"
   ]
  },
  {
   "cell_type": "markdown",
   "id": "7b65b91a-571b-4cd5-9c6c-fc5ae38dd62d",
   "metadata": {},
   "source": [
    "### Diagonal Difference "
   ]
  },
  {
   "cell_type": "markdown",
   "id": "373d02d5-95d5-4713-ab8a-f1101f04cd4d",
   "metadata": {},
   "source": [
    "Give an n-square array, calculate the absolute difference between the sum of its two diagonals elements."
   ]
  },
  {
   "cell_type": "code",
   "execution_count": 122,
   "id": "58091769-f477-47a6-b902-02903282cbd4",
   "metadata": {},
   "outputs": [],
   "source": [
    "def diagonalDifference(arr):\n",
    "    n = len(arr)\n",
    "    tl = []\n",
    "    tr = []\n",
    "    for i in range(n):\n",
    "        tl.append(arr[i][i])\n",
    "        tr.append(arr[i][n - i - 1])\n",
    "    return(abs(sum(tl) - sum(tr)))\n",
    "        \n",
    "    "
   ]
  },
  {
   "cell_type": "code",
   "execution_count": 123,
   "id": "c5654f02-e452-4f2c-8b7e-c50bbd7fe95d",
   "metadata": {},
   "outputs": [
    {
     "data": {
      "text/plain": [
       "15"
      ]
     },
     "execution_count": 123,
     "metadata": {},
     "output_type": "execute_result"
    }
   ],
   "source": [
    "arr = [[11, 2, 4], [4, 5, 6], [10, 8, -12]]\n",
    "diagonalDifference(arr)"
   ]
  },
  {
   "cell_type": "markdown",
   "id": "2ae43683-2633-415b-94ad-2ff0e80ddb27",
   "metadata": {},
   "source": [
    "### Counting Sort"
   ]
  },
  {
   "cell_type": "markdown",
   "id": "721b5814-6024-4783-b93a-710975020b36",
   "metadata": {},
   "source": [
    "Given a list of integers, return a list counting the number of times each occurs. Return a list with 100 elements always."
   ]
  },
  {
   "cell_type": "code",
   "execution_count": 156,
   "id": "22b8cdcd-4009-4e93-afc5-7c00fc1822c0",
   "metadata": {},
   "outputs": [],
   "source": [
    "def countingSort(arr):\n",
    "    counts = [0] * 100\n",
    "    for i in arr:\n",
    "        counts[i] = counts[i] + 1\n",
    "    return counts"
   ]
  },
  {
   "cell_type": "code",
   "execution_count": null,
   "id": "f5ab4743-ac0a-498a-aab6-8fd3a7abb556",
   "metadata": {},
   "outputs": [],
   "source": [
    "arr = [4, 2, 2, 9, 4, 3,7, 7, 8]\n",
    "countingSort(arr)"
   ]
  },
  {
   "cell_type": "markdown",
   "id": "c57b309a-5e5b-4c99-ae52-3f40292aeb58",
   "metadata": {},
   "source": [
    "### Test 2: Flipping The Matrix "
   ]
  },
  {
   "cell_type": "code",
   "execution_count": 191,
   "id": "3f6cfa9d-069e-4aed-9a83-85c9abe67ef7",
   "metadata": {},
   "outputs": [],
   "source": [
    "def flippingMatrix(matrix): \n",
    "    n = int(len(matrix) / 2)\n",
    "    print(n)\n",
    "    summer = []\n",
    "    for i in range(n):\n",
    "        for j in range(n):\n",
    "            maxij = max([matrix[i][j], \n",
    "                         matrix[i][-(j + 1)], \n",
    "                         matrix[-(i + 1)][j], \n",
    "                         matrix[-(i + 1)][-(j + 1)]])\n",
    "            summer.append(maxij)\n",
    "    return sum(summer)        "
   ]
  },
  {
   "cell_type": "code",
   "execution_count": 189,
   "id": "1de2ec7e-cece-475a-aa7e-9a2804432a30",
   "metadata": {},
   "outputs": [
    {
     "name": "stdout",
     "output_type": "stream",
     "text": [
      "[[1, 2, 5, 6], [3, 4, 7, 3], [1, 3, 6, 2], [5, 4, 47, 4]]\n",
      "2\n"
     ]
    },
    {
     "data": {
      "text/plain": [
       "63"
      ]
     },
     "execution_count": 189,
     "metadata": {},
     "output_type": "execute_result"
    }
   ],
   "source": [
    "arr = [[1, 2, 5, 6], [3, 4, 7, 3], [1, 3, 6, 2], [5, 4, 47, 4]]\n",
    "print(arr)\n",
    "flippingMatrix(arr)"
   ]
  },
  {
   "cell_type": "markdown",
   "id": "dbc0a17c",
   "metadata": {},
   "source": [
    "## Day 3"
   ]
  },
  {
   "cell_type": "markdown",
   "id": "de837587",
   "metadata": {},
   "source": [
    "### ZigZag Sequence"
   ]
  },
  {
   "cell_type": "markdown",
   "id": "b5d97d7a",
   "metadata": {},
   "source": [
    "Given an array of $n$ distinct integers, transform the array into a zig zag sequence by permuting the array elements. Debug the following code:"
   ]
  },
  {
   "cell_type": "code",
   "execution_count": 82,
   "id": "71959f4a",
   "metadata": {},
   "outputs": [],
   "source": [
    "# the original\n",
    "def findZigZagSequence(a, n):\n",
    "    a.sort() \n",
    "    mid = int((n + 1)/2) - 1 # subtract 1 to find middle\n",
    "    a[mid], a[n-1] = a[n-1], a[mid] \n",
    "    # st = mid + 1 \n",
    "    st = mid + 1 \n",
    "    ed = n - 2  # second to last element \n",
    "    while(st <= ed):\n",
    "        a[st], a[ed] = a[ed], a[st]\n",
    "        st = st + 1\n",
    "        ed = ed - 1 # decrement, not increment\n",
    "\n",
    "    for i in range (n):\n",
    "        if i == n-1:\n",
    "            print(a[i])\n",
    "        else:\n",
    "            print(a[i], end = ' ')\n",
    "    return"
   ]
  },
  {
   "cell_type": "code",
   "execution_count": 83,
   "id": "0ea13ba0",
   "metadata": {},
   "outputs": [
    {
     "name": "stdout",
     "output_type": "stream",
     "text": [
      "1 2 3 7 6 5 4\n"
     ]
    }
   ],
   "source": [
    "findZigZagSequence(a = [1, 2, 3, 4, 5, 6, 7], n = 7)"
   ]
  },
  {
   "cell_type": "markdown",
   "id": "e0f0d5e8",
   "metadata": {},
   "source": [
    "### Better ZigZag"
   ]
  },
  {
   "cell_type": "markdown",
   "id": "be9605b5",
   "metadata": {},
   "source": [
    "My own, cleaner ZigZagSequence function. Sort, split, reverse, concatenate. No iteration required. "
   ]
  },
  {
   "cell_type": "code",
   "execution_count": 84,
   "id": "16945bcc",
   "metadata": {},
   "outputs": [],
   "source": [
    "def ZigZagSequence(arr): \n",
    "    n = len(arr)\n",
    "    mid = int((n + 1) / 2) - 1\n",
    "    arr.sort()\n",
    "    begin = arr[0:mid]\n",
    "    end = arr[mid:].reverse\n",
    "\n",
    "    for i in range (n):\n",
    "        if i == n-1:\n",
    "            print(arr[i])\n",
    "        else:\n",
    "            print(arr[i], end = ' ')\n",
    "    return"
   ]
  },
  {
   "cell_type": "code",
   "execution_count": 85,
   "id": "7f71d82a",
   "metadata": {},
   "outputs": [
    {
     "name": "stdout",
     "output_type": "stream",
     "text": [
      "1 2 3 4 5 6 7\n"
     ]
    }
   ],
   "source": [
    "arr = [1, 2, 3, 4, 5, 6, 7]\n",
    "ZigZagSequence(arr)"
   ]
  },
  {
   "cell_type": "markdown",
   "id": "e7c52213",
   "metadata": {},
   "source": [
    "### Tower Breakers"
   ]
  },
  {
   "cell_type": "code",
   "execution_count": 39,
   "id": "e966c704",
   "metadata": {},
   "outputs": [],
   "source": [
    "def towerBreakers(n, m):\n",
    "    if (n % 2) == 0 or m == 1:\n",
    "        return 2\n",
    "    else: \n",
    "        return 1     "
   ]
  },
  {
   "cell_type": "markdown",
   "id": "8813f6d0",
   "metadata": {},
   "source": [
    "### Bonus: Evaluate Prime"
   ]
  },
  {
   "cell_type": "code",
   "execution_count": 36,
   "id": "09dfe324",
   "metadata": {},
   "outputs": [
    {
     "data": {
      "text/plain": [
       "True"
      ]
     },
     "execution_count": 36,
     "metadata": {},
     "output_type": "execute_result"
    }
   ],
   "source": [
    "def isPrime(m):\n",
    "    mods = [m % i for i in range(2, m + 1) if (m % i) == 0]\n",
    "    if (m == 1) | len(mods) == 1:\n",
    "        return True\n",
    "    else:\n",
    "        return False"
   ]
  },
  {
   "cell_type": "markdown",
   "id": "12c4874a",
   "metadata": {},
   "source": [
    "### Caesar's Cipher"
   ]
  },
  {
   "cell_type": "markdown",
   "id": "2f190a1d",
   "metadata": {},
   "source": [
    "Given a string s, create a cipher by rotating around the alphabet by k. "
   ]
  },
  {
   "cell_type": "code",
   "execution_count": 57,
   "id": "ac68119a",
   "metadata": {},
   "outputs": [],
   "source": [
    "def caesarCipher(s, k):\n",
    "    abet = 'abcdefghijklmnopqrstuvwxyz'\n",
    "    abetlong = ''\n",
    "    for _ in range(100):\n",
    "        abetlong = abetlong + abet\n",
    "    slow = s.lower()\n",
    "    clow = [abetlong[abet.find(i) + k] if abet.find(i) != -1 else i for i in slow]\n",
    "    return ''.join([clow[i].upper() if s[i].isupper() else clow[i] for i in range(len(slow))])"
   ]
  },
  {
   "cell_type": "code",
   "execution_count": 58,
   "id": "329901b3",
   "metadata": {},
   "outputs": [
    {
     "data": {
      "text/plain": [
       "'vJt+gg'"
      ]
     },
     "execution_count": 58,
     "metadata": {},
     "output_type": "execute_result"
    }
   ],
   "source": [
    "caesarCipher('tHr+ee', 2)"
   ]
  },
  {
   "cell_type": "code",
   "execution_count": 25,
   "id": "f79559c4",
   "metadata": {},
   "outputs": [
    {
     "data": {
      "text/plain": [
       "-1"
      ]
     },
     "execution_count": 25,
     "metadata": {},
     "output_type": "execute_result"
    }
   ],
   "source": [
    "abet = 'abcdefghijklmnopqrstuvwxyz'\n",
    "s = '+'\n",
    "abet.find(s)"
   ]
  }
 ],
 "metadata": {
  "kernelspec": {
   "display_name": "Python 3 (ipykernel)",
   "language": "python",
   "name": "python3"
  },
  "language_info": {
   "codemirror_mode": {
    "name": "ipython",
    "version": 3
   },
   "file_extension": ".py",
   "mimetype": "text/x-python",
   "name": "python",
   "nbconvert_exporter": "python",
   "pygments_lexer": "ipython3",
   "version": "3.9.10"
  }
 },
 "nbformat": 4,
 "nbformat_minor": 5
}
