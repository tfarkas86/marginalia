{
 "cells": [
  {
   "cell_type": "markdown",
   "id": "0ddeeb12-9c03-44b6-a601-f9254f919505",
   "metadata": {},
   "source": [
    "# HackerRank One-Week Coding Review"
   ]
  },
  {
   "cell_type": "code",
   "execution_count": 2,
   "id": "5b95a32d-d60e-4da2-9a0f-5c688b8c3031",
   "metadata": {},
   "outputs": [],
   "source": [
    "import os\n",
    "import math\n",
    "import random \n",
    "import re \n",
    "import sys"
   ]
  },
  {
   "cell_type": "markdown",
   "id": "8a246e8e-abc6-4712-98c7-78cca483876c",
   "metadata": {},
   "source": [
    "## Day 1"
   ]
  },
  {
   "cell_type": "markdown",
   "id": "874310b5-c86f-48a4-ab57-ecf38784da90",
   "metadata": {},
   "source": [
    "### Time Converstion"
   ]
  },
  {
   "cell_type": "markdown",
   "id": "0f6fe63f-b1fc-4151-91c8-138f615b1e06",
   "metadata": {},
   "source": [
    "Write a a function `timeConversion()` that takes a 12-hr clock string (\"12:04:55AM\") and returns a 24-hr clock string. "
   ]
  },
  {
   "cell_type": "code",
   "execution_count": 47,
   "id": "524c6384-2b53-4c6e-9c7e-554c32b0560d",
   "metadata": {},
   "outputs": [],
   "source": [
    "def timeConversion(s):\n",
    "    ampm = s[-2:]\n",
    "    time = s[:-2] # time portion only\n",
    "    hr1 = s[:2] # the two-digit hour \n",
    "    if (ampm == \"AM\") & (hr1 == '12'):\n",
    "        return \"00\" + time[2:]\n",
    "    elif ampm == \"AM\":\n",
    "        return time\n",
    "    elif (ampm == \"PM\") & (hr1 == '12'):\n",
    "        return time\n",
    "    else: \n",
    "        return str(int(hr1) + 12) + time[2:]"
   ]
  },
  {
   "cell_type": "code",
   "execution_count": 48,
   "id": "2d59f008-8c6c-45f0-8adf-ecd2bcfedfae",
   "metadata": {},
   "outputs": [
    {
     "data": {
      "text/plain": [
       "'23:04:55'"
      ]
     },
     "execution_count": 48,
     "metadata": {},
     "output_type": "execute_result"
    }
   ],
   "source": [
    "s = '11:04:55PM'\n",
    "timeConversion(s)"
   ]
  },
  {
   "cell_type": "markdown",
   "id": "2de0bb98-dbca-427e-8181-e554d18dea42",
   "metadata": {},
   "source": [
    "### Get Median (Exam 1)"
   ]
  },
  {
   "cell_type": "code",
   "execution_count": null,
   "id": "529286ad-fd32-4993-b86c-a6c021c2e6fa",
   "metadata": {},
   "outputs": [],
   "source": [
    "def getMedian(arr):\n",
    "    arr.sort()\n",
    "    return arr[(len(arr) // 2)]"
   ]
  },
  {
   "cell_type": "code",
   "execution_count": null,
   "id": "55f838cf-7cf3-491b-ba5b-c3f440b23517",
   "metadata": {},
   "outputs": [],
   "source": [
    "arr = [2, 4, 6, 3, 9, 1, 7]\n",
    "getMedian(arr)"
   ]
  },
  {
   "cell_type": "markdown",
   "id": "39563dea-ea18-4398-a3ce-363e9c3d9a4f",
   "metadata": {},
   "source": [
    "## Day 2"
   ]
  },
  {
   "cell_type": "markdown",
   "id": "21b0249b-9fdf-49ca-838c-2c7301344cf5",
   "metadata": {},
   "source": [
    "### Lonely Integer"
   ]
  },
  {
   "cell_type": "markdown",
   "id": "37df3c6a-1b7a-4b1c-9d30-19eba489120c",
   "metadata": {},
   "source": [
    "Given an array with only one integer value occuring only once (all others occurring multiple times), find and return it. "
   ]
  },
  {
   "cell_type": "code",
   "execution_count": 100,
   "id": "40e01e01-6a08-4db5-b966-3055dca488cc",
   "metadata": {},
   "outputs": [],
   "source": [
    "def lonelyinteger(a):\n",
    "    a.sort()\n",
    "    print(a)\n",
    "    if len(a) == 1: # in case there only one number\n",
    "        return a[0]\n",
    "    elif a[0] != a[1]:\n",
    "        return a[0]\n",
    "    elif a[-1] != a[-2]:\n",
    "        return a[-1]\n",
    "    else:\n",
    "        index = [i for i in range(1, len(a) - 1) if (a[i] != a[i - 1]) & (a[i] != a[i + 1])]\n",
    "        return a[index[0]]"
   ]
  },
  {
   "cell_type": "code",
   "execution_count": 99,
   "id": "5b41a790-2ffa-43dc-95ce-8e835ba2c23a",
   "metadata": {},
   "outputs": [
    {
     "name": "stdout",
     "output_type": "stream",
     "text": [
      "[8]\n"
     ]
    },
    {
     "data": {
      "text/plain": [
       "8"
      ]
     },
     "execution_count": 99,
     "metadata": {},
     "output_type": "execute_result"
    }
   ],
   "source": [
    "arr = [1, 1, 1, 4, 4, 7, 7, 5, 3, 3, 9, 9]\n",
    "lonelyinteger(arr)"
   ]
  },
  {
   "cell_type": "markdown",
   "id": "7b65b91a-571b-4cd5-9c6c-fc5ae38dd62d",
   "metadata": {},
   "source": [
    "### Diagonal Difference "
   ]
  },
  {
   "cell_type": "markdown",
   "id": "373d02d5-95d5-4713-ab8a-f1101f04cd4d",
   "metadata": {},
   "source": [
    "Give an n-square array, calculate the absolute difference between the sum of its two diagonals elements."
   ]
  },
  {
   "cell_type": "code",
   "execution_count": null,
   "id": "58091769-f477-47a6-b902-02903282cbd4",
   "metadata": {},
   "outputs": [],
   "source": [
    "def diagonalDifference(arr):\n",
    "    "
   ]
  }
 ],
 "metadata": {
  "kernelspec": {
   "display_name": "Python 3 (ipykernel)",
   "language": "python",
   "name": "python3"
  },
  "language_info": {
   "codemirror_mode": {
    "name": "ipython",
    "version": 3
   },
   "file_extension": ".py",
   "mimetype": "text/x-python",
   "name": "python",
   "nbconvert_exporter": "python",
   "pygments_lexer": "ipython3",
   "version": "3.9.7"
  }
 },
 "nbformat": 4,
 "nbformat_minor": 5
}
