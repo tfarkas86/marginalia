{
 "cells": [
  {
   "cell_type": "markdown",
   "id": "0ddeeb12-9c03-44b6-a601-f9254f919505",
   "metadata": {},
   "source": [
    "# HackerRank One-Week Coding Review"
   ]
  },
  {
   "cell_type": "code",
   "execution_count": 2,
   "id": "5b95a32d-d60e-4da2-9a0f-5c688b8c3031",
   "metadata": {},
   "outputs": [],
   "source": [
    "import os\n",
    "import math\n",
    "import random \n",
    "import re \n",
    "import sys"
   ]
  },
  {
   "cell_type": "markdown",
   "id": "8a246e8e-abc6-4712-98c7-78cca483876c",
   "metadata": {},
   "source": [
    "## Day 1"
   ]
  },
  {
   "cell_type": "markdown",
   "id": "874310b5-c86f-48a4-ab57-ecf38784da90",
   "metadata": {},
   "source": [
    "### Time Converstion"
   ]
  },
  {
   "cell_type": "markdown",
   "id": "0f6fe63f-b1fc-4151-91c8-138f615b1e06",
   "metadata": {},
   "source": [
    "Write a a function `timeConversion()` that takes a 12-hr clock string (\"12:04:55AM\") and returns a 24-hr clock string. "
   ]
  },
  {
   "cell_type": "code",
   "execution_count": 47,
   "id": "524c6384-2b53-4c6e-9c7e-554c32b0560d",
   "metadata": {},
   "outputs": [],
   "source": [
    "def timeConversion(s):\n",
    "    ampm = s[-2:]\n",
    "    time = s[:-2] # time portion only\n",
    "    hr1 = s[:2] # the two-digit hour \n",
    "    if (ampm == \"AM\") & (hr1 == '12'):\n",
    "        return \"00\" + time[2:]\n",
    "    elif ampm == \"AM\":\n",
    "        return time\n",
    "    elif (ampm == \"PM\") & (hr1 == '12'):\n",
    "        return time\n",
    "    else: \n",
    "        return str(int(hr1) + 12) + time[2:]"
   ]
  },
  {
   "cell_type": "code",
   "execution_count": 48,
   "id": "2d59f008-8c6c-45f0-8adf-ecd2bcfedfae",
   "metadata": {},
   "outputs": [
    {
     "data": {
      "text/plain": [
       "'23:04:55'"
      ]
     },
     "execution_count": 48,
     "metadata": {},
     "output_type": "execute_result"
    }
   ],
   "source": [
    "s = '11:04:55PM'\n",
    "timeConversion(s)"
   ]
  },
  {
   "cell_type": "markdown",
   "id": "2de0bb98-dbca-427e-8181-e554d18dea42",
   "metadata": {},
   "source": [
    "### Get Median (Exam 1)"
   ]
  },
  {
   "cell_type": "code",
   "execution_count": null,
   "id": "529286ad-fd32-4993-b86c-a6c021c2e6fa",
   "metadata": {},
   "outputs": [],
   "source": [
    "def getMedian(arr):\n",
    "    arr.sort()\n",
    "    return arr[(len(arr) // 2)]"
   ]
  },
  {
   "cell_type": "code",
   "execution_count": null,
   "id": "55f838cf-7cf3-491b-ba5b-c3f440b23517",
   "metadata": {},
   "outputs": [],
   "source": [
    "arr = [2, 4, 6, 3, 9, 1, 7]\n",
    "getMedian(arr)"
   ]
  },
  {
   "cell_type": "markdown",
   "id": "39563dea-ea18-4398-a3ce-363e9c3d9a4f",
   "metadata": {},
   "source": [
    "## Day 2"
   ]
  },
  {
   "cell_type": "markdown",
   "id": "21b0249b-9fdf-49ca-838c-2c7301344cf5",
   "metadata": {},
   "source": [
    "### Lonely Integer"
   ]
  },
  {
   "cell_type": "markdown",
   "id": "37df3c6a-1b7a-4b1c-9d30-19eba489120c",
   "metadata": {},
   "source": [
    "Given an array with only one integer value occuring only once (all others occurring multiple times), find and return it. "
   ]
  },
  {
   "cell_type": "code",
   "execution_count": 100,
   "id": "40e01e01-6a08-4db5-b966-3055dca488cc",
   "metadata": {},
   "outputs": [],
   "source": [
    "def lonelyinteger(a):\n",
    "    a.sort()\n",
    "    print(a)\n",
    "    if len(a) == 1: # in case there only one number\n",
    "        return a[0]\n",
    "    elif a[0] != a[1]:\n",
    "        return a[0]\n",
    "    elif a[-1] != a[-2]:\n",
    "        return a[-1]\n",
    "    else:\n",
    "        index = [i for i in range(1, len(a) - 1) if (a[i] != a[i - 1]) & (a[i] != a[i + 1])]\n",
    "        return a[index[0]]"
   ]
  },
  {
   "cell_type": "code",
   "execution_count": 99,
   "id": "5b41a790-2ffa-43dc-95ce-8e835ba2c23a",
   "metadata": {},
   "outputs": [
    {
     "name": "stdout",
     "output_type": "stream",
     "text": [
      "[8]\n"
     ]
    },
    {
     "data": {
      "text/plain": [
       "8"
      ]
     },
     "execution_count": 99,
     "metadata": {},
     "output_type": "execute_result"
    }
   ],
   "source": [
    "arr = [1, 1, 1, 4, 4, 7, 7, 5, 3, 3, 9, 9]\n",
    "lonelyinteger(arr)"
   ]
  },
  {
   "cell_type": "markdown",
   "id": "7b65b91a-571b-4cd5-9c6c-fc5ae38dd62d",
   "metadata": {},
   "source": [
    "### Diagonal Difference "
   ]
  },
  {
   "cell_type": "markdown",
   "id": "373d02d5-95d5-4713-ab8a-f1101f04cd4d",
   "metadata": {},
   "source": [
    "Give an n-square array, calculate the absolute difference between the sum of its two diagonals elements."
   ]
  },
  {
   "cell_type": "code",
   "execution_count": 122,
   "id": "58091769-f477-47a6-b902-02903282cbd4",
   "metadata": {},
   "outputs": [],
   "source": [
    "def diagonalDifference(arr):\n",
    "    n = len(arr)\n",
    "    tl = []\n",
    "    tr = []\n",
    "    for i in range(n):\n",
    "        tl.append(arr[i][i])\n",
    "        tr.append(arr[i][n - i - 1])\n",
    "    return(abs(sum(tl) - sum(tr)))\n",
    "        \n",
    "    "
   ]
  },
  {
   "cell_type": "code",
   "execution_count": 123,
   "id": "c5654f02-e452-4f2c-8b7e-c50bbd7fe95d",
   "metadata": {},
   "outputs": [
    {
     "data": {
      "text/plain": [
       "15"
      ]
     },
     "execution_count": 123,
     "metadata": {},
     "output_type": "execute_result"
    }
   ],
   "source": [
    "arr = [[11, 2, 4], [4, 5, 6], [10, 8, -12]]\n",
    "diagonalDifference(arr)"
   ]
  },
  {
   "cell_type": "markdown",
   "id": "2ae43683-2633-415b-94ad-2ff0e80ddb27",
   "metadata": {},
   "source": [
    "### Counting Sort"
   ]
  },
  {
   "cell_type": "markdown",
   "id": "721b5814-6024-4783-b93a-710975020b36",
   "metadata": {},
   "source": [
    "Given a list of integers, return a list counting the number of times each occurs. Return a list with 100 elements always."
   ]
  },
  {
   "cell_type": "code",
   "execution_count": 156,
   "id": "22b8cdcd-4009-4e93-afc5-7c00fc1822c0",
   "metadata": {},
   "outputs": [],
   "source": [
    "def countingSort(arr):\n",
    "    counts = [0] * 100\n",
    "    for i in arr:\n",
    "        counts[i] = counts[i] + 1\n",
    "    return counts"
   ]
  },
  {
   "cell_type": "code",
   "execution_count": null,
   "id": "f5ab4743-ac0a-498a-aab6-8fd3a7abb556",
   "metadata": {},
   "outputs": [],
   "source": [
    "arr = [4, 2, 2, 9, 4, 3,7, 7, 8]\n",
    "countingSort(arr)"
   ]
  },
  {
   "cell_type": "markdown",
   "id": "c57b309a-5e5b-4c99-ae52-3f40292aeb58",
   "metadata": {},
   "source": [
    "### Test 2: Flipping The Matrix "
   ]
  },
  {
   "cell_type": "code",
   "execution_count": 191,
   "id": "3f6cfa9d-069e-4aed-9a83-85c9abe67ef7",
   "metadata": {},
   "outputs": [],
   "source": [
    "def flippingMatrix(matrix): \n",
    "    n = int(len(matrix) / 2)\n",
    "    print(n)\n",
    "    summer = []\n",
    "    for i in range(n):\n",
    "        for j in range(n):\n",
    "            maxij = max([matrix[i][j], \n",
    "                         matrix[i][-(j + 1)], \n",
    "                         matrix[-(i + 1)][j], \n",
    "                         matrix[-(i + 1)][-(j + 1)]])\n",
    "            summer.append(maxij)\n",
    "    return sum(summer)        "
   ]
  },
  {
   "cell_type": "code",
   "execution_count": 189,
   "id": "1de2ec7e-cece-475a-aa7e-9a2804432a30",
   "metadata": {},
   "outputs": [
    {
     "name": "stdout",
     "output_type": "stream",
     "text": [
      "[[1, 2, 5, 6], [3, 4, 7, 3], [1, 3, 6, 2], [5, 4, 47, 4]]\n",
      "2\n"
     ]
    },
    {
     "data": {
      "text/plain": [
       "63"
      ]
     },
     "execution_count": 189,
     "metadata": {},
     "output_type": "execute_result"
    }
   ],
   "source": [
    "arr = [[1, 2, 5, 6], [3, 4, 7, 3], [1, 3, 6, 2], [5, 4, 47, 4]]\n",
    "print(arr)\n",
    "flippingMatrix(arr)"
   ]
  },
  {
   "cell_type": "markdown",
   "id": "dbc0a17c",
   "metadata": {},
   "source": [
    "## Day 3"
   ]
  },
  {
   "cell_type": "markdown",
   "id": "de837587",
   "metadata": {},
   "source": [
    "### ZigZag Sequence"
   ]
  },
  {
   "cell_type": "markdown",
   "id": "b5d97d7a",
   "metadata": {},
   "source": [
    "Given an array of $n$ distinct integers, transform the array into a zig zag sequence by permuting the array elements. Debug the following code:"
   ]
  },
  {
   "cell_type": "code",
   "execution_count": 82,
   "id": "71959f4a",
   "metadata": {},
   "outputs": [],
   "source": [
    "# the original\n",
    "def findZigZagSequence(a, n):\n",
    "    a.sort() \n",
    "    mid = int((n + 1)/2) - 1 # subtract 1 to find middle\n",
    "    a[mid], a[n-1] = a[n-1], a[mid] \n",
    "    # st = mid + 1 \n",
    "    st = mid + 1 \n",
    "    ed = n - 2  # second to last element \n",
    "    while(st <= ed):\n",
    "        a[st], a[ed] = a[ed], a[st]\n",
    "        st = st + 1\n",
    "        ed = ed - 1 # decrement, not increment\n",
    "\n",
    "    for i in range (n):\n",
    "        if i == n-1:\n",
    "            print(a[i])\n",
    "        else:\n",
    "            print(a[i], end = ' ')\n",
    "    return"
   ]
  },
  {
   "cell_type": "code",
   "execution_count": 83,
   "id": "0ea13ba0",
   "metadata": {},
   "outputs": [
    {
     "name": "stdout",
     "output_type": "stream",
     "text": [
      "1 2 3 7 6 5 4\n"
     ]
    }
   ],
   "source": [
    "findZigZagSequence(a = [1, 2, 3, 4, 5, 6, 7], n = 7)"
   ]
  },
  {
   "cell_type": "markdown",
   "id": "e0f0d5e8",
   "metadata": {},
   "source": [
    "### Better ZigZag"
   ]
  },
  {
   "cell_type": "markdown",
   "id": "be9605b5",
   "metadata": {},
   "source": [
    "My own, cleaner ZigZagSequence function. Sort, split, reverse, concatenate. No iteration required. "
   ]
  },
  {
   "cell_type": "code",
   "execution_count": 84,
   "id": "16945bcc",
   "metadata": {},
   "outputs": [],
   "source": [
    "def ZigZagSequence(arr): \n",
    "    n = len(arr)\n",
    "    mid = int((n + 1) / 2) - 1\n",
    "    arr.sort()\n",
    "    begin = arr[0:mid]\n",
    "    end = arr[mid:].reverse\n",
    "\n",
    "    for i in range (n):\n",
    "        if i == n-1:\n",
    "            print(arr[i])\n",
    "        else:\n",
    "            print(arr[i], end = ' ')\n",
    "    return"
   ]
  },
  {
   "cell_type": "code",
   "execution_count": 85,
   "id": "7f71d82a",
   "metadata": {},
   "outputs": [
    {
     "name": "stdout",
     "output_type": "stream",
     "text": [
      "1 2 3 4 5 6 7\n"
     ]
    }
   ],
   "source": [
    "arr = [1, 2, 3, 4, 5, 6, 7]\n",
    "ZigZagSequence(arr)"
   ]
  },
  {
   "cell_type": "markdown",
   "id": "49a11c71",
   "metadata": {},
   "source": [
    "### Tower Breakers"
   ]
  },
  {
   "cell_type": "code",
   "execution_count": 39,
   "id": "ab266a64",
   "metadata": {},
   "outputs": [],
   "source": [
    "def towerBreakers(n, m):\n",
    "    if (n % 2) == 0 or m == 1:\n",
    "        return 2\n",
    "    else: \n",
    "        return 1     "
   ]
  },
  {
   "cell_type": "markdown",
   "id": "ace10661",
   "metadata": {},
   "source": [
    "### Bonus: Evaluate Prime"
   ]
  },
  {
   "cell_type": "code",
   "execution_count": 36,
   "id": "a87edae8",
   "metadata": {},
   "outputs": [
    {
     "data": {
      "text/plain": [
       "True"
      ]
     },
     "execution_count": 36,
     "metadata": {},
     "output_type": "execute_result"
    }
   ],
   "source": [
    "def isPrime(m):\n",
    "    mods = [m % i for i in range(2, m + 1) if (m % i) == 0]\n",
    "    if (m == 1) | len(mods) == 1:\n",
    "        return True\n",
    "    else:\n",
    "        return False"
   ]
  },
  {
   "cell_type": "markdown",
   "id": "0b5ae246",
   "metadata": {},
   "source": [
    "### Caesar's Cipher"
   ]
  },
  {
   "cell_type": "markdown",
   "id": "3e30f861",
   "metadata": {},
   "source": [
    "Given a string s, create a cipher by rotating around the alphabet by k. "
   ]
  },
  {
   "cell_type": "code",
   "execution_count": 57,
   "id": "10343d6a",
   "metadata": {},
   "outputs": [],
   "source": [
    "def caesarCipher(s, k):\n",
    "    abet = 'abcdefghijklmnopqrstuvwxyz'\n",
    "    abetlong = ''\n",
    "    for _ in range(100):\n",
    "        abetlong = abetlong + abet\n",
    "    slow = s.lower()\n",
    "    clow = [abetlong[abet.find(i) + k] if abet.find(i) != -1 else i for i in slow]\n",
    "    return ''.join([clow[i].upper() if s[i].isupper() else clow[i] for i in range(len(slow))])"
   ]
  },
  {
   "cell_type": "code",
   "execution_count": 58,
   "id": "6f1b6307",
   "metadata": {},
   "outputs": [
    {
     "data": {
      "text/plain": [
       "'vJt+gg'"
      ]
     },
     "execution_count": 58,
     "metadata": {},
     "output_type": "execute_result"
    }
   ],
   "source": [
    "caesarCipher('tHr+ee', 2)"
   ]
  },
  {
   "cell_type": "markdown",
   "id": "b91d68c1",
   "metadata": {},
   "source": [
    "### Test 3: Palindrome Index"
   ]
  },
  {
   "cell_type": "code",
   "execution_count": 187,
   "id": "e3ea9c99",
   "metadata": {},
   "outputs": [],
   "source": [
    "def palindromeIndex(s):\n",
    "    s = s.replace(' ', '')\n",
    "    s = ''.join([i.lower() for i in s])\n",
    "    if s == s[::-1]:\n",
    "            return -1\n",
    "    for i in range(len(s)):\n",
    "        sc = [i for i in s]\n",
    "        sc.pop(i)\n",
    "        print(sc)\n",
    "        if sc == sc[::-1]:\n",
    "            return i\n",
    "    return -1"
   ]
  },
  {
   "cell_type": "code",
   "execution_count": 186,
   "id": "b5ce41ec",
   "metadata": {},
   "outputs": [
    {
     "name": "stdout",
     "output_type": "stream",
     "text": [
      "['b', 'c', 'd', 'e', 'c', 'b', 'a']\n",
      "['a', 'c', 'd', 'e', 'c', 'b', 'a']\n",
      "['a', 'b', 'd', 'e', 'c', 'b', 'a']\n",
      "['a', 'b', 'c', 'e', 'c', 'b', 'a']\n"
     ]
    },
    {
     "data": {
      "text/plain": [
       "3"
      ]
     },
     "execution_count": 186,
     "metadata": {},
     "output_type": "execute_result"
    }
   ],
   "source": [
    "s = 'AbcdecB a'\n",
    "palindromeIndex(s)"
   ]
  },
  {
   "cell_type": "markdown",
   "id": "ca324f24",
   "metadata": {},
   "source": [
    "Only 5 of 20 test are passing with this solution. Most of them time out at 10 seconds, but one does fail to produce the correct answer. Lots of people online are complaining about a problem on the HackerRank side. Seems like there are a bunch of solutions that are faster than this element-wise iteration, but I'm going to call it here. This works for any cases I can come up with. "
   ]
  },
  {
   "cell_type": "markdown",
   "id": "aaa1175c",
   "metadata": {},
   "source": [
    "## Day 4"
   ]
  },
  {
   "cell_type": "markdown",
   "id": "95d3c665",
   "metadata": {},
   "source": [
    "### Grid Challenge"
   ]
  },
  {
   "cell_type": "markdown",
   "id": "4f6f1de2",
   "metadata": {},
   "source": [
    "Given a square grid of characters in the range ascii[a-z], rearrange elements of each row alphabetically, ascending. Determine if the columns are also in ascending alphabetical order, top to bottom. Return YES if they are or NO if they are not.\n",
    "\n",
    "Input: A list of strings, eg `['abc', 'utd', 'qrp', 'mnr']` is a 4 x 3 grid. \n",
    "\n",
    "NOTE: The instructions say \"square grid\", but many test cases are not square. "
   ]
  },
  {
   "cell_type": "code",
   "execution_count": 134,
   "id": "f6c3af76",
   "metadata": {},
   "outputs": [],
   "source": [
    "def gridChallenge(grid): \n",
    "    \n",
    "    grid = [[i for i in j] for j in grid]\n",
    "    for i in range(len(grid)):\n",
    "        grid[i].sort()\n",
    "    colind = []\n",
    "    for i in range(len(grid[0])):\n",
    "        col = []\n",
    "        for j in range(len(grid)):\n",
    "            col.append(grid[j][i]) \n",
    "        colsort = col.copy()\n",
    "        colsort.sort()\n",
    "        colind.append(col == colsort)\n",
    "    if all(colind): \n",
    "        print(\"YES\")\n",
    "    else:\n",
    "        print(\"NO\")\n",
    "        "
   ]
  },
  {
   "cell_type": "code",
   "execution_count": 135,
   "id": "a281429e",
   "metadata": {},
   "outputs": [
    {
     "name": "stdout",
     "output_type": "stream",
     "text": [
      "NO\n"
     ]
    }
   ],
   "source": [
    "g = ['ahdc', 'bndq', 'lrwt', 'hjgks', 'lkjfh']\n",
    "gridChallenge(g)"
   ]
  },
  {
   "cell_type": "markdown",
   "id": "23caa533",
   "metadata": {},
   "source": [
    "### Recursive Digit Sum"
   ]
  },
  {
   "cell_type": "markdown",
   "id": "5202a4d6",
   "metadata": {},
   "source": [
    "We define super digit of an integer using the following rules:\n",
    "\n",
    "Given an integer $x$, we need to find the super digit of the integer.\n",
    "\n",
    "If $x$ has only digit, then its super digit is $x$. \n",
    "Otherwise, the super digit of $x$ is equal to the super digit of the sum of the digits of $x$.\n",
    "\n",
    "Write a recursive function to calculate the super digit of $x$. "
   ]
  },
  {
   "cell_type": "code",
   "execution_count": 245,
   "id": "692f1d4c",
   "metadata": {},
   "outputs": [],
   "source": [
    "def superDigit(n, k):\n",
    "    x = ''\n",
    "    for _ in range(k):\n",
    "        x = x + n\n",
    "    if len(x) == 1: \n",
    "        return int(x)\n",
    "    xsum = str(sum([int(i) for i in x]))\n",
    "    return superDigit(xsum, 1)"
   ]
  },
  {
   "cell_type": "code",
   "execution_count": 257,
   "id": "dc930ed5",
   "metadata": {},
   "outputs": [
    {
     "data": {
      "text/plain": [
       "4"
      ]
     },
     "execution_count": 257,
     "metadata": {},
     "output_type": "execute_result"
    }
   ],
   "source": [
    "superDigit('317',2 )"
   ]
  },
  {
   "cell_type": "markdown",
   "id": "61691b57",
   "metadata": {},
   "source": [
    "This code is failing 4 of 10 locked test cases. Seems to work fine for me. It may be a timeout issue with huge numbers, which are in scope for the problem."
   ]
  }
 ],
 "metadata": {
  "kernelspec": {
   "display_name": "Python 3 (ipykernel)",
   "language": "python",
   "name": "python3"
  },
  "language_info": {
   "codemirror_mode": {
    "name": "ipython",
    "version": 3
   },
   "file_extension": ".py",
   "mimetype": "text/x-python",
   "name": "python",
   "nbconvert_exporter": "python",
   "pygments_lexer": "ipython3",
   "version": "3.9.10"
  }
 },
 "nbformat": 4,
 "nbformat_minor": 5
}
